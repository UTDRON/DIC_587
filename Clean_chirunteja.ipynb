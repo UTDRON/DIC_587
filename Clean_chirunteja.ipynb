{
  "nbformat": 4,
  "nbformat_minor": 0,
  "metadata": {
    "colab": {
      "provenance": []
    },
    "kernelspec": {
      "name": "python3",
      "display_name": "Python 3"
    },
    "language_info": {
      "name": "python"
    }
  },
  "cells": [
    {
      "cell_type": "code",
      "execution_count": 42,
      "metadata": {
        "id": "gdJNv_Xk2-PB"
      },
      "outputs": [],
      "source": [
        "import pandas as pd\n",
        "import json\n",
        "pd.set_option('display.max_columns', None)\n",
        "pd.set_option('display.max_rows', None)\n"
      ]
    },
    {
      "cell_type": "code",
      "source": [
        "df = pd.read_csv(\"https://raw.githubusercontent.com/rashida048/Datasets/master/movie_dataset.csv\")\n",
        "df['release_date'].head()\n"
      ],
      "metadata": {
        "colab": {
          "base_uri": "https://localhost:8080/"
        },
        "id": "VKbCYjGk3xiq",
        "outputId": "9dc536af-b94d-4c72-b495-6fab70cc9bab"
      },
      "execution_count": 77,
      "outputs": [
        {
          "output_type": "execute_result",
          "data": {
            "text/plain": [
              "0    2009-12-10\n",
              "1    2007-05-19\n",
              "2    2015-10-26\n",
              "3    2012-07-16\n",
              "4    2012-03-07\n",
              "Name: release_date, dtype: object"
            ]
          },
          "metadata": {},
          "execution_count": 77
        }
      ]
    },
    {
      "cell_type": "code",
      "source": [
        "#dropping the NA rows\n",
        "x=df[df['release_date'].isna()]['index']\n",
        "df=df.drop(x)\n"
      ],
      "metadata": {
        "id": "sehWBEMg3xgg"
      },
      "execution_count": 78,
      "outputs": []
    },
    {
      "cell_type": "code",
      "source": [
        "#separating the year and month from the release_date column into the year and month separrate column\n",
        "\n",
        "df['release_date'].isna().sum()\n",
        "df['year'] = pd.DatetimeIndex(df['release_date']).year\n",
        "df['month'] = pd.DatetimeIndex(df['release_date']).month\n",
        "df['year'] = df['year'].astype(int)\n",
        "df['month']=df['month'].astype(int)"
      ],
      "metadata": {
        "id": "ifW3sM043xct"
      },
      "execution_count": 79,
      "outputs": []
    },
    {
      "cell_type": "code",
      "source": [
        "#Created the new languages count column using the spoken languages\n",
        "df['spoken_languages'] = df['spoken_languages'].apply(lambda x: json.loads(x))\n",
        "df['Languages_count'] = df['spoken_languages'].apply(lambda x: len(x))\n"
      ],
      "metadata": {
        "id": "0lASLEPjHXK1"
      },
      "execution_count": 80,
      "outputs": []
    },
    {
      "cell_type": "code",
      "source": [
        "#created new productions producers count column from the production companies\n",
        "df['production_companies']=df['production_companies'].apply(lambda x: json.loads(x))\n",
        "df['productions_count']=df['production_companies'].apply(lambda x: len(x))"
      ],
      "metadata": {
        "id": "AOZwjAeJTe7f"
      },
      "execution_count": 81,
      "outputs": []
    },
    {
      "cell_type": "code",
      "source": [
        "#created new productions countries count column from the production countries column\n",
        "df['production_countries']=df['production_countries'].apply(lambda x: json.loads(x))\n",
        "df['productions_countries_count']=df['production_countries'].apply(lambda x: len(x))\n"
      ],
      "metadata": {
        "id": "5d7LqlwEKAEc"
      },
      "execution_count": 82,
      "outputs": []
    },
    {
      "cell_type": "code",
      "source": [
        "#converted into the usd version by keepin the $\n",
        "df['revenue']=df['revenue'].apply(lambda x: \"${:,.2f}\".format(x / 100))"
      ],
      "metadata": {
        "id": "M_zUJb6CLdDw"
      },
      "execution_count": 83,
      "outputs": []
    },
    {
      "cell_type": "code",
      "source": [
        "#removed the entire row which has the na in runtime and converted into the hours and minutes form\n",
        "df = df.dropna(subset=['runtime'])\n",
        "df['runtime']=df['runtime'].apply(lambda x: f\"{int(x // 60)} hours and {int(x % 60)} minutes\")"
      ],
      "metadata": {
        "id": "jb5FLaRrLc-a"
      },
      "execution_count": 92,
      "outputs": []
    },
    {
      "cell_type": "code",
      "source": [],
      "metadata": {
        "colab": {
          "base_uri": "https://localhost:8080/"
        },
        "id": "yW2kUvDEOiTz",
        "outputId": "e6010575-e562-419f-cab5-40f09c991dcc"
      },
      "execution_count": 95,
      "outputs": [
        {
          "output_type": "execute_result",
          "data": {
            "text/plain": [
              "1    2 hours and 49 minutes\n",
              "2    2 hours and 28 minutes\n",
              "3    2 hours and 45 minutes\n",
              "4    2 hours and 12 minutes\n",
              "5    2 hours and 19 minutes\n",
              "6    1 hours and 40 minutes\n",
              "7    2 hours and 21 minutes\n",
              "8    2 hours and 33 minutes\n",
              "9    2 hours and 31 minutes\n",
              "Name: runtime, dtype: object"
            ]
          },
          "metadata": {},
          "execution_count": 95
        }
      ]
    },
    {
      "cell_type": "code",
      "source": [],
      "metadata": {
        "colab": {
          "base_uri": "https://localhost:8080/",
          "height": 73
        },
        "id": "TeHuqhO2NPPZ",
        "outputId": "0c1270c7-5b7a-4fed-96c1-e6159d7eeb9b"
      },
      "execution_count": 91,
      "outputs": [
        {
          "output_type": "execute_result",
          "data": {
            "text/plain": [
              "Empty DataFrame\n",
              "Columns: [index, budget, genres, homepage, id, keywords, original_language, original_title, overview, popularity, production_companies, production_countries, release_date, revenue, runtime, spoken_languages, status, tagline, title, vote_average, vote_count, cast, crew, director, year, month, Languages_count, productions_count, productions_countries_count]\n",
              "Index: []"
            ],
            "text/html": [
              "\n",
              "  <div id=\"df-571efc46-d547-4ff1-82ad-4fd271b56da9\" class=\"colab-df-container\">\n",
              "    <div>\n",
              "<style scoped>\n",
              "    .dataframe tbody tr th:only-of-type {\n",
              "        vertical-align: middle;\n",
              "    }\n",
              "\n",
              "    .dataframe tbody tr th {\n",
              "        vertical-align: top;\n",
              "    }\n",
              "\n",
              "    .dataframe thead th {\n",
              "        text-align: right;\n",
              "    }\n",
              "</style>\n",
              "<table border=\"1\" class=\"dataframe\">\n",
              "  <thead>\n",
              "    <tr style=\"text-align: right;\">\n",
              "      <th></th>\n",
              "      <th>index</th>\n",
              "      <th>budget</th>\n",
              "      <th>genres</th>\n",
              "      <th>homepage</th>\n",
              "      <th>id</th>\n",
              "      <th>keywords</th>\n",
              "      <th>original_language</th>\n",
              "      <th>original_title</th>\n",
              "      <th>overview</th>\n",
              "      <th>popularity</th>\n",
              "      <th>production_companies</th>\n",
              "      <th>production_countries</th>\n",
              "      <th>release_date</th>\n",
              "      <th>revenue</th>\n",
              "      <th>runtime</th>\n",
              "      <th>spoken_languages</th>\n",
              "      <th>status</th>\n",
              "      <th>tagline</th>\n",
              "      <th>title</th>\n",
              "      <th>vote_average</th>\n",
              "      <th>vote_count</th>\n",
              "      <th>cast</th>\n",
              "      <th>crew</th>\n",
              "      <th>director</th>\n",
              "      <th>year</th>\n",
              "      <th>month</th>\n",
              "      <th>Languages_count</th>\n",
              "      <th>productions_count</th>\n",
              "      <th>productions_countries_count</th>\n",
              "    </tr>\n",
              "  </thead>\n",
              "  <tbody>\n",
              "  </tbody>\n",
              "</table>\n",
              "</div>\n",
              "    <div class=\"colab-df-buttons\">\n",
              "\n",
              "  <div class=\"colab-df-container\">\n",
              "    <button class=\"colab-df-convert\" onclick=\"convertToInteractive('df-571efc46-d547-4ff1-82ad-4fd271b56da9')\"\n",
              "            title=\"Convert this dataframe to an interactive table.\"\n",
              "            style=\"display:none;\">\n",
              "\n",
              "  <svg xmlns=\"http://www.w3.org/2000/svg\" height=\"24px\" viewBox=\"0 -960 960 960\">\n",
              "    <path d=\"M120-120v-720h720v720H120Zm60-500h600v-160H180v160Zm220 220h160v-160H400v160Zm0 220h160v-160H400v160ZM180-400h160v-160H180v160Zm440 0h160v-160H620v160ZM180-180h160v-160H180v160Zm440 0h160v-160H620v160Z\"/>\n",
              "  </svg>\n",
              "    </button>\n",
              "\n",
              "  <style>\n",
              "    .colab-df-container {\n",
              "      display:flex;\n",
              "      gap: 12px;\n",
              "    }\n",
              "\n",
              "    .colab-df-convert {\n",
              "      background-color: #E8F0FE;\n",
              "      border: none;\n",
              "      border-radius: 50%;\n",
              "      cursor: pointer;\n",
              "      display: none;\n",
              "      fill: #1967D2;\n",
              "      height: 32px;\n",
              "      padding: 0 0 0 0;\n",
              "      width: 32px;\n",
              "    }\n",
              "\n",
              "    .colab-df-convert:hover {\n",
              "      background-color: #E2EBFA;\n",
              "      box-shadow: 0px 1px 2px rgba(60, 64, 67, 0.3), 0px 1px 3px 1px rgba(60, 64, 67, 0.15);\n",
              "      fill: #174EA6;\n",
              "    }\n",
              "\n",
              "    .colab-df-buttons div {\n",
              "      margin-bottom: 4px;\n",
              "    }\n",
              "\n",
              "    [theme=dark] .colab-df-convert {\n",
              "      background-color: #3B4455;\n",
              "      fill: #D2E3FC;\n",
              "    }\n",
              "\n",
              "    [theme=dark] .colab-df-convert:hover {\n",
              "      background-color: #434B5C;\n",
              "      box-shadow: 0px 1px 3px 1px rgba(0, 0, 0, 0.15);\n",
              "      filter: drop-shadow(0px 1px 2px rgba(0, 0, 0, 0.3));\n",
              "      fill: #FFFFFF;\n",
              "    }\n",
              "  </style>\n",
              "\n",
              "    <script>\n",
              "      const buttonEl =\n",
              "        document.querySelector('#df-571efc46-d547-4ff1-82ad-4fd271b56da9 button.colab-df-convert');\n",
              "      buttonEl.style.display =\n",
              "        google.colab.kernel.accessAllowed ? 'block' : 'none';\n",
              "\n",
              "      async function convertToInteractive(key) {\n",
              "        const element = document.querySelector('#df-571efc46-d547-4ff1-82ad-4fd271b56da9');\n",
              "        const dataTable =\n",
              "          await google.colab.kernel.invokeFunction('convertToInteractive',\n",
              "                                                    [key], {});\n",
              "        if (!dataTable) return;\n",
              "\n",
              "        const docLinkHtml = 'Like what you see? Visit the ' +\n",
              "          '<a target=\"_blank\" href=https://colab.research.google.com/notebooks/data_table.ipynb>data table notebook</a>'\n",
              "          + ' to learn more about interactive tables.';\n",
              "        element.innerHTML = '';\n",
              "        dataTable['output_type'] = 'display_data';\n",
              "        await google.colab.output.renderOutput(dataTable, element);\n",
              "        const docLink = document.createElement('div');\n",
              "        docLink.innerHTML = docLinkHtml;\n",
              "        element.appendChild(docLink);\n",
              "      }\n",
              "    </script>\n",
              "  </div>\n",
              "\n",
              "    </div>\n",
              "  </div>\n"
            ]
          },
          "metadata": {},
          "execution_count": 91
        }
      ]
    }
  ]
}